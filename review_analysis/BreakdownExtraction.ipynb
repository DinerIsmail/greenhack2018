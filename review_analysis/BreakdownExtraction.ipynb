{
 "cells": [
  {
   "cell_type": "markdown",
   "metadata": {},
   "source": [
    "# Extract lifespan information from Amazon reviews"
   ]
  },
  {
   "cell_type": "markdown",
   "metadata": {},
   "source": [
    "First let's install some useful packages"
   ]
  },
  {
   "cell_type": "code",
   "execution_count": 22,
   "metadata": {
    "collapsed": true
   },
   "outputs": [],
   "source": [
    "import pandas as pd\n",
    "import numpy as np\n",
    "import nltk\n",
    "import json\n",
    "import gzip"
   ]
  },
  {
   "cell_type": "markdown",
   "metadata": {},
   "source": [
    "Read in reviews for subset of electronics from Amazon"
   ]
  },
  {
   "cell_type": "code",
   "execution_count": 23,
   "metadata": {
    "collapsed": false
   },
   "outputs": [
    {
     "name": "stdout",
     "output_type": "stream",
     "text": [
      "10%\n",
      "20%\n",
      "30%\n",
      "40%\n",
      "50%\n",
      "60%\n",
      "70%\n",
      "80%\n",
      "90%\n",
      "100%\n"
     ]
    },
    {
     "data": {
      "text/html": [
       "<div>\n",
       "<table border=\"1\" class=\"dataframe\">\n",
       "  <thead>\n",
       "    <tr style=\"text-align: right;\">\n",
       "      <th></th>\n",
       "      <th>reviewTime</th>\n",
       "      <th>asin</th>\n",
       "      <th>reviewerName</th>\n",
       "      <th>reviewerID</th>\n",
       "      <th>unixReviewTime</th>\n",
       "      <th>helpful</th>\n",
       "      <th>summary</th>\n",
       "      <th>reviewText</th>\n",
       "      <th>overall</th>\n",
       "    </tr>\n",
       "  </thead>\n",
       "  <tbody>\n",
       "    <tr>\n",
       "      <th>0</th>\n",
       "      <td>06 2, 2013</td>\n",
       "      <td>0528881469</td>\n",
       "      <td>amazdnu</td>\n",
       "      <td>AO94DHGC771SJ</td>\n",
       "      <td>1370131200</td>\n",
       "      <td>[0, 0]</td>\n",
       "      <td>Gotta have GPS!</td>\n",
       "      <td>We got this GPS for my husband who is an (OTR)...</td>\n",
       "      <td>5.0</td>\n",
       "    </tr>\n",
       "    <tr>\n",
       "      <th>1</th>\n",
       "      <td>11 25, 2010</td>\n",
       "      <td>0528881469</td>\n",
       "      <td>Amazon Customer</td>\n",
       "      <td>AMO214LNFCEI4</td>\n",
       "      <td>1290643200</td>\n",
       "      <td>[12, 15]</td>\n",
       "      <td>Very Disappointed</td>\n",
       "      <td>I'm a professional OTR truck driver, and I bou...</td>\n",
       "      <td>1.0</td>\n",
       "    </tr>\n",
       "  </tbody>\n",
       "</table>\n",
       "</div>"
      ],
      "text/plain": [
       "    reviewTime        asin     reviewerName     reviewerID  unixReviewTime  \\\n",
       "0   06 2, 2013  0528881469          amazdnu  AO94DHGC771SJ      1370131200   \n",
       "1  11 25, 2010  0528881469  Amazon Customer  AMO214LNFCEI4      1290643200   \n",
       "\n",
       "    helpful            summary  \\\n",
       "0    [0, 0]    Gotta have GPS!   \n",
       "1  [12, 15]  Very Disappointed   \n",
       "\n",
       "                                          reviewText  overall  \n",
       "0  We got this GPS for my husband who is an (OTR)...      5.0  \n",
       "1  I'm a professional OTR truck driver, and I bou...      1.0  "
      ]
     },
     "execution_count": 23,
     "metadata": {},
     "output_type": "execute_result"
    }
   ],
   "source": [
    "def parse(path):\n",
    "    g = gzip.open(path, 'rb')\n",
    "    for l in g:\n",
    "        yield eval(l)\n",
    "\n",
    "def getDF(path):\n",
    "    i = 0\n",
    "    i_max = 500000\n",
    "    df = {}\n",
    "    for d in parse(path):\n",
    "        df[i] = d\n",
    "        i += 1\n",
    "        if i > i_max:\n",
    "            break\n",
    "        if i % 50000 == 0:\n",
    "            print(str(int(100*i/i_max)) + '%')\n",
    "            \n",
    "    return pd.DataFrame.from_dict(df, orient='index')\n",
    "\n",
    "reviews = getDF('data/reviews_Electronics_5.json.gz')\n",
    "reviews.head(2)"
   ]
  },
  {
   "cell_type": "markdown",
   "metadata": {},
   "source": [
    "Extract reviews with information on items breaking down\n",
    "For now: only looking for reviews of the forms \"worked for X period\" and the like.\n",
    "\n",
    "Allowed time periods:\n",
    "* Day\n",
    "* Week\n",
    "* Month\n",
    "* Year"
   ]
  },
  {
   "cell_type": "code",
   "execution_count": 24,
   "metadata": {
    "collapsed": true
   },
   "outputs": [],
   "source": [
    "def get_lifespans(data):\n",
    "    lifespans = []\n",
    "    \n",
    "    for i in range(data.shape[0]):\n",
    "        if (data['t_period'][i] == 'day'):\n",
    "            lifespans.append(data['n_period'][i] / 30)\n",
    "        elif (data['t_period'][i] == 'week'):\n",
    "            lifespans.append(data['n_period'][i] * 7 / 30)\n",
    "        elif (data['t_period'][i] == 'month'):\n",
    "            lifespans.append(data['n_period'][i])\n",
    "        elif (data['t_period'][i] == 'year'):\n",
    "            lifespans.append(data['n_period'][i] *365 / 30)\n",
    "        else:\n",
    "            print('ajjajaj')\n",
    "    \n",
    "    return(lifespans)"
   ]
  },
  {
   "cell_type": "code",
   "execution_count": 27,
   "metadata": {
    "collapsed": false
   },
   "outputs": [
    {
     "name": "stdout",
     "output_type": "stream",
     "text": [
      "          asin  n_period  rating      reviewerID t_period  \\\n",
      "0   9888002198       1.0     1.0   ATXRV6Z3N08ZX      day   \n",
      "1   9888002198       6.0     5.0   AA6BJGZG6XI05     week   \n",
      "2   B00000J0D5       2.0     1.0   A83BIO3AO15LQ    month   \n",
      "3   B00003006E       1.0     5.0  A2WYNTUJ91DLZW     year   \n",
      "4   B00004Z5LR       8.0     5.0  A2BFZD9WRHVO0J    month   \n",
      "5   B00005854F       2.0     1.0   AFP499OYIMJ97    month   \n",
      "6   B00005JAD8       1.0     5.0  A27G747VNYQ17V     year   \n",
      "7   B00005T39Y       2.0     4.0  A2ZXBFBA7EKYNR     week   \n",
      "8   B000067SMH       2.0     5.0  A3EEMEJH8QZPVR     year   \n",
      "9   B000068U29       5.0     1.0  A1J595X1ANFHR7      day   \n",
      "10  B000069EV0       1.0     1.0  A3OIE7IE9LTPJG      day   \n",
      "11  B00006I53T       8.0     2.0   AUEMHQBBKUL4Q    month   \n",
      "12  B00006RVPW       1.0     2.0  A1CYK2VYWWRL5X      day   \n",
      "13  B00007056H      15.0     5.0  A37FBFYV7JGRVN     year   \n",
      "14  B00007KLI4       1.0     1.0  A37Y2D14F5NJHW    month   \n",
      "15  B00008RW8B       1.0     3.0   AHVOCPHJR9PGS     year   \n",
      "16  B00008VWOJ       2.0     1.0  A1ZQI0ZOZ2AON9    month   \n",
      "17  B00008Y1BX       3.0     3.0  A3VL4RXCWNSR3H    month   \n",
      "18  B00009NFEP      10.0     1.0  A3LXYBBLOOEOMQ     year   \n",
      "19  B00009W3FR       3.0     1.0  A3UU295DVDIMHC      day   \n",
      "20  B0000A0AJH       6.0     5.0   AELX4C5T2HX8U     year   \n",
      "21  B0000A576D      50.0     3.0  A2O52ICJCRQYVK      day   \n",
      "22  B0000BVYTV       1.0     3.0   AUVOMF6CMI4O6     year   \n",
      "23  B0000BYRIN       2.0     1.0   AGF5R0NX88XPH    month   \n",
      "24  B0000CEOYI       1.0     4.0  A1M4NJYP0WNL8Q     year   \n",
      "\n",
      "                                                words    lifespan  \n",
      "0   worked for about 1 day or less, when they stopped    0.033333  \n",
      "1        worked for me over 6 weeks in Europe and UK.    1.400000  \n",
      "2   worked for maybe 2 months then died. Tried to ...    2.000000  \n",
      "3           worked for about a year with no problems.   12.166667  \n",
      "4        worked for them as a temp for 8 months about    8.000000  \n",
      "5   worked for 2 months without any issue and it s...    2.000000  \n",
      "6     worked for about a year and would only last for   12.166667  \n",
      "7   worked for the first 2 weeks amazingly. Then i...    0.466667  \n",
      "8   worked for over 2 years now. It doesn't suppor...   24.333333  \n",
      "9   worked for 5 days after I bought it...stone ag...    0.166667  \n",
      "10       worked for a day and then could never get it    0.033333  \n",
      "11  worked for about another 8 months before rever...    8.000000  \n",
      "12  worked for a day. 2nd day one started getting ...    0.033333  \n",
      "13  worked for Radio Shack for 15 years ending in ...  182.500000  \n",
      "14  worked for another 1 month and 1/2... Same thi...    1.000000  \n",
      "15  worked for a year and stopped working. The com...   12.166667  \n",
      "16  worked for about 2 months and then quit workin...    2.000000  \n",
      "17  worked for about 3 months and LOCKED UP SOLID....    3.000000  \n",
      "18  worked for 10 years without a problem. Now, fo...  121.666667  \n",
      "19  worked for about 3 days and then static starte...    0.100000  \n",
      "20  worked for 6 year before it stopped playing so...   73.000000  \n",
      "21  worked for about 50 days then sounded squeaky....    1.666667  \n",
      "22        worked for about a year or so, but the cord   12.166667  \n",
      "23        worked for more than 2 months it would be a    2.000000  \n",
      "24  worked for almost a year and then, one day, tr...   12.166667  \n"
     ]
    }
   ],
   "source": [
    "terms = ['worked for','broke after', 'broke down after', 'broken after', 'broken down after', 'worked only for']\n",
    "timeperiod_terms = set(['day','week','month','year'])\n",
    "\n",
    "asins = []\n",
    "reviewerIDs = []\n",
    "n_periods = []\n",
    "t_periods = []\n",
    "ratings = []\n",
    "words = []\n",
    "\n",
    "for term in terms:\n",
    "    break_reviews = reviews[reviews['reviewText'].str.contains(term)]\n",
    "    for index, row in break_reviews.iterrows():\n",
    "        review = row['reviewText']\n",
    "        asin = row['asin']\n",
    "        reviewerID = row['reviewerID']\n",
    "        rating = row['overall']\n",
    "\n",
    "        i_term = review.find(term)\n",
    "        words_after = review[i_term:].split()[0:10]\n",
    "\n",
    "        for timeperiod in timeperiod_terms:\n",
    "            if (timeperiod in words_after) or (timeperiod+'s' in words_after):\n",
    "                i_term = np.argmax(pd.Series(words_after).str.contains(timeperiod))\n",
    "                words_between = words_after[2:i_term]\n",
    "                if len(words_between) > 0:\n",
    "                    try:\n",
    "                        n_periods_float = float(words_between[-1])\n",
    "                        asins.append(asin)\n",
    "                        reviewerIDs.append(reviewerID)\n",
    "                        n_periods.append(n_periods_float)\n",
    "                        t_periods.append(timeperiod)\n",
    "                        ratings.append(rating)\n",
    "                        words.append(' '.join(words_after))\n",
    "                    except ValueError:\n",
    "                        if words_between[-1] == 'a':\n",
    "                            n_periods_float = float(1)\n",
    "                            asins.append(asin)\n",
    "                            reviewerIDs.append(reviewerID)\n",
    "                            n_periods.append(n_periods_float)\n",
    "                            t_periods.append(timeperiod)\n",
    "                            ratings.append(rating)\n",
    "                            words.append(' '.join(words_after))\n",
    "            \n",
    "breakdowns = pd.DataFrame({'asin': asins, 'reviewerID': reviewerIDs,\n",
    "                          'n_period': n_periods, 't_period': t_periods,\n",
    "                          'rating': ratings, 'words': words})\n",
    "\n",
    "lifespans = get_lifespans(breakdowns)\n",
    "breakdowns['lifespan'] = lifespans\n",
    "print(breakdowns.head(25))"
   ]
  },
  {
   "cell_type": "markdown",
   "metadata": {},
   "source": [
    "Create dataframe of unique items"
   ]
  },
  {
   "cell_type": "code",
   "execution_count": 28,
   "metadata": {
    "collapsed": false
   },
   "outputs": [
    {
     "name": "stdout",
     "output_type": "stream",
     "text": [
      "         asin brand model\n",
      "0  9888002198  null  null\n",
      "1  B00000J0D5  null  null\n",
      "2  B00003006E  null  null\n"
     ]
    }
   ],
   "source": [
    "uniq_asins = breakdowns['asin'].unique()\n",
    "breakdown_items = pd.DataFrame({'asin': uniq_asins})\n",
    "breakdown_items['brand'] = 'null'\n",
    "breakdown_items['model'] = 'null'\n",
    "print(breakdown_items.head(3))"
   ]
  },
  {
   "cell_type": "markdown",
   "metadata": {},
   "source": [
    "Write data in json format"
   ]
  },
  {
   "cell_type": "code",
   "execution_count": 29,
   "metadata": {
    "collapsed": false
   },
   "outputs": [],
   "source": [
    "def write_to_json(items, reviews, filename):\n",
    "    with open(filename, 'w') as jsonfile:\n",
    "        jsonfile.write('{\\n')\n",
    "        \n",
    "        for index, row in items.iterrows():\n",
    "            thisitem_reviews = reviews.where(reviews.asin == row.asin).dropna().reset_index(drop=True)\n",
    "            \n",
    "            jsonfile.write('\\t\"' + row['asin'] + '\" : {\\n')\n",
    "            jsonfile.write('\\t\\t\"brand\" : ' + row['brand'] + ',\\n')\n",
    "            jsonfile.write('\\t\\t\"model\" : ' + row['model'] + ',\\n')\n",
    "            jsonfile.write('\\t\\t\"reviews\" : [ \\n')\n",
    "            \n",
    "            for iindex, irow in thisitem_reviews.iterrows():\n",
    "                if iindex == (thisitem_reviews.shape[0] - 1):\n",
    "                    jsonfile.write('\\t\\t{\\t\"lifespan\": ' + str(irow['lifespan']) + ',\\n')\n",
    "                    jsonfile.write('\\t\\t\\t\"rating\": ' + str(irow['rating']) + '\\n')\n",
    "                    jsonfile.write('\\t\\t}\\n')\n",
    "                else:\n",
    "                    jsonfile.write('\\t\\t{\\t\"lifespan\": ' + str(irow['lifespan']) + ',\\n')\n",
    "                    jsonfile.write('\\t\\t\\t\"rating\": ' + str(irow['rating']) + '\\n')\n",
    "                    jsonfile.write('\\t\\t},\\n')\n",
    "                \n",
    "            jsonfile.write('\\t\\t]\\n')\n",
    "            jsonfile.write('\\t},\\n')\n",
    "        jsonfile.write('}\\n')\n",
    "\n",
    "filename = 'data/amazon.json'\n",
    "write_to_json(breakdown_items, breakdowns, filename)"
   ]
  },
  {
   "cell_type": "markdown",
   "metadata": {},
   "source": [
    "Convert mock Amazon data from Young Mi"
   ]
  },
  {
   "cell_type": "code",
   "execution_count": 246,
   "metadata": {
    "collapsed": false
   },
   "outputs": [
    {
     "data": {
      "text/html": [
       "<div>\n",
       "<table border=\"1\" class=\"dataframe\">\n",
       "  <thead>\n",
       "    <tr style=\"text-align: right;\">\n",
       "      <th></th>\n",
       "      <th>asin</th>\n",
       "      <th>rating</th>\n",
       "      <th>lifespan</th>\n",
       "      <th>brand</th>\n",
       "    </tr>\n",
       "  </thead>\n",
       "  <tbody>\n",
       "    <tr>\n",
       "      <th>0</th>\n",
       "      <td>0132793040</td>\n",
       "      <td>5</td>\n",
       "      <td>6</td>\n",
       "      <td>FRUYZ9646H</td>\n",
       "    </tr>\n",
       "    <tr>\n",
       "      <th>1</th>\n",
       "      <td>0321732944</td>\n",
       "      <td>5</td>\n",
       "      <td>28</td>\n",
       "      <td>XXSKO4415Q</td>\n",
       "    </tr>\n",
       "    <tr>\n",
       "      <th>2</th>\n",
       "      <td>0439886341</td>\n",
       "      <td>1</td>\n",
       "      <td>20</td>\n",
       "      <td>VKNEQ7868Y</td>\n",
       "    </tr>\n",
       "    <tr>\n",
       "      <th>3</th>\n",
       "      <td>0439886341</td>\n",
       "      <td>3</td>\n",
       "      <td>1</td>\n",
       "      <td>VKNEQ7868Y</td>\n",
       "    </tr>\n",
       "    <tr>\n",
       "      <th>4</th>\n",
       "      <td>0439886341</td>\n",
       "      <td>1</td>\n",
       "      <td>19</td>\n",
       "      <td>VKNEQ7868Y</td>\n",
       "    </tr>\n",
       "  </tbody>\n",
       "</table>\n",
       "</div>"
      ],
      "text/plain": [
       "         asin  rating  lifespan       brand\n",
       "0  0132793040       5         6  FRUYZ9646H\n",
       "1  0321732944       5        28  XXSKO4415Q\n",
       "2  0439886341       1        20  VKNEQ7868Y\n",
       "3  0439886341       3         1  VKNEQ7868Y\n",
       "4  0439886341       1        19  VKNEQ7868Y"
      ]
     },
     "execution_count": 246,
     "metadata": {},
     "output_type": "execute_result"
    }
   ],
   "source": [
    "original_columns = ['ASIN','Rating','Months','Brand_name']\n",
    "new_columns = ['asin','rating','lifespan','brand']\n",
    "\n",
    "youngmi_amazon = pd.read_csv('data/ratings_Amazon_same_brandname.csv')[original_columns]\n",
    "youngmi_amazon.columns = new_columns\n",
    "youngmi_amazon.head(3)"
   ]
  },
  {
   "cell_type": "code",
   "execution_count": 247,
   "metadata": {
    "collapsed": false
   },
   "outputs": [
    {
     "data": {
      "text/html": [
       "<div>\n",
       "<table border=\"1\" class=\"dataframe\">\n",
       "  <thead>\n",
       "    <tr style=\"text-align: right;\">\n",
       "      <th></th>\n",
       "      <th>asin</th>\n",
       "      <th>brand</th>\n",
       "      <th>model</th>\n",
       "    </tr>\n",
       "  </thead>\n",
       "  <tbody>\n",
       "    <tr>\n",
       "      <th>0</th>\n",
       "      <td>0132793040</td>\n",
       "      <td>FRUYZ9646H</td>\n",
       "      <td>null</td>\n",
       "    </tr>\n",
       "    <tr>\n",
       "      <th>1</th>\n",
       "      <td>0321732944</td>\n",
       "      <td>XXSKO4415Q</td>\n",
       "      <td>null</td>\n",
       "    </tr>\n",
       "    <tr>\n",
       "      <th>2</th>\n",
       "      <td>0439886341</td>\n",
       "      <td>VKNEQ7868Y</td>\n",
       "      <td>null</td>\n",
       "    </tr>\n",
       "    <tr>\n",
       "      <th>5</th>\n",
       "      <td>0511189877</td>\n",
       "      <td>XIWNE4324C</td>\n",
       "      <td>null</td>\n",
       "    </tr>\n",
       "    <tr>\n",
       "      <th>11</th>\n",
       "      <td>0528881469</td>\n",
       "      <td>VXVKC6828Z</td>\n",
       "      <td>null</td>\n",
       "    </tr>\n",
       "  </tbody>\n",
       "</table>\n",
       "</div>"
      ],
      "text/plain": [
       "          asin       brand model\n",
       "0   0132793040  FRUYZ9646H  null\n",
       "1   0321732944  XXSKO4415Q  null\n",
       "2   0439886341  VKNEQ7868Y  null\n",
       "5   0511189877  XIWNE4324C  null\n",
       "11  0528881469  VXVKC6828Z  null"
      ]
     },
     "execution_count": 247,
     "metadata": {},
     "output_type": "execute_result"
    }
   ],
   "source": [
    "youngmi_amazon_products = youngmi_amazon[['asin','brand']].drop_duplicates()\n",
    "youngmi_amazon_products['model'] = 'null'\n",
    "youngmi_amazon_products.columns = ['asin','brand','model']\n",
    "\n",
    "youngmi_amazon_products.head(3)"
   ]
  },
  {
   "cell_type": "code",
   "execution_count": 248,
   "metadata": {
    "collapsed": true
   },
   "outputs": [],
   "source": [
    "def write_to_json_ym(items, reviews, filename):\n",
    "    with open(filename, 'w') as jsonfile:\n",
    "        jsonfile.write('{\\n')\n",
    "        \n",
    "        for index, row in items.iterrows():\n",
    "            thisitem_reviews = reviews.where(reviews.asin == row.asin).dropna().reset_index(drop=True)\n",
    "            \n",
    "            jsonfile.write('\\t\"' + row['asin'] + '\" : {\\n')\n",
    "            jsonfile.write('\\t\\t\"brand\" : \"' + row['brand'] + '\",\\n')\n",
    "            jsonfile.write('\\t\\t\"model\" : ' + row['model'] + ',\\n')\n",
    "            jsonfile.write('\\t\\t\"reviews\" : [ \\n')\n",
    "            \n",
    "            for iindex, irow in thisitem_reviews.iterrows():\n",
    "                if iindex == (thisitem_reviews.shape[0] - 1):\n",
    "                    jsonfile.write('\\t\\t{\\t\"lifespan\": ' + str(irow['lifespan']) + ',\\n')\n",
    "                    jsonfile.write('\\t\\t\\t\"rating\": ' + str(irow['rating']) + '\\n')\n",
    "                    jsonfile.write('\\t\\t}\\n')\n",
    "                else:\n",
    "                    jsonfile.write('\\t\\t{\\t\"lifespan\": ' + str(irow['lifespan']) + ',\\n')\n",
    "                    jsonfile.write('\\t\\t\\t\"rating\": ' + str(irow['rating']) + '\\n')\n",
    "                    jsonfile.write('\\t\\t},\\n')\n",
    "                \n",
    "            jsonfile.write('\\t\\t]\\n')\n",
    "            jsonfile.write('\\t},\\n')\n",
    "        jsonfile.write('}\\n')\n",
    "\n",
    "youngmiamazon_filename = 'data/youngmi_amazon.json'\n",
    "write_to_json_ym(youngmi_amazon_products, youngmi_amazon, youngmiamazon_filename)"
   ]
  },
  {
   "cell_type": "markdown",
   "metadata": {},
   "source": [
    "Convert mock lab equipment data from Young Mi"
   ]
  },
  {
   "cell_type": "code",
   "execution_count": 241,
   "metadata": {
    "collapsed": false
   },
   "outputs": [
    {
     "data": {
      "text/html": [
       "<div>\n",
       "<table border=\"1\" class=\"dataframe\">\n",
       "  <thead>\n",
       "    <tr style=\"text-align: right;\">\n",
       "      <th></th>\n",
       "      <th>asin</th>\n",
       "      <th>lifespan</th>\n",
       "      <th>rating</th>\n",
       "    </tr>\n",
       "  </thead>\n",
       "  <tbody>\n",
       "    <tr>\n",
       "      <th>0</th>\n",
       "      <td>129-8922</td>\n",
       "      <td>75</td>\n",
       "      <td>1</td>\n",
       "    </tr>\n",
       "    <tr>\n",
       "      <th>1</th>\n",
       "      <td>472-5350</td>\n",
       "      <td>29</td>\n",
       "      <td>2</td>\n",
       "    </tr>\n",
       "    <tr>\n",
       "      <th>2</th>\n",
       "      <td>527-6106</td>\n",
       "      <td>24</td>\n",
       "      <td>5</td>\n",
       "    </tr>\n",
       "    <tr>\n",
       "      <th>3</th>\n",
       "      <td>537-7921</td>\n",
       "      <td>14</td>\n",
       "      <td>4</td>\n",
       "    </tr>\n",
       "    <tr>\n",
       "      <th>4</th>\n",
       "      <td>665-1608</td>\n",
       "      <td>40</td>\n",
       "      <td>5</td>\n",
       "    </tr>\n",
       "  </tbody>\n",
       "</table>\n",
       "</div>"
      ],
      "text/plain": [
       "       asin  lifespan  rating\n",
       "0  129-8922        75       1\n",
       "1  472-5350        29       2\n",
       "2  527-6106        24       5\n",
       "3  537-7921        14       4\n",
       "4  665-1608        40       5"
      ]
     },
     "execution_count": 241,
     "metadata": {},
     "output_type": "execute_result"
    }
   ],
   "source": [
    "original_columns = ['vwr.catalogue','months','ratings']\n",
    "new_columns = ['asin','lifespan','rating']\n",
    "\n",
    "youngmi_lab = pd.read_csv('data/vwr.data.csv')\n",
    "youngmi_lab.columns = new_columns\n",
    "youngmi_lab.head(3)"
   ]
  },
  {
   "cell_type": "code",
   "execution_count": 242,
   "metadata": {
    "collapsed": false
   },
   "outputs": [
    {
     "data": {
      "text/html": [
       "<div>\n",
       "<table border=\"1\" class=\"dataframe\">\n",
       "  <thead>\n",
       "    <tr style=\"text-align: right;\">\n",
       "      <th></th>\n",
       "      <th>asin</th>\n",
       "      <th>brand</th>\n",
       "      <th>model</th>\n",
       "    </tr>\n",
       "  </thead>\n",
       "  <tbody>\n",
       "    <tr>\n",
       "      <th>0</th>\n",
       "      <td>129-8922</td>\n",
       "      <td>null</td>\n",
       "      <td>null</td>\n",
       "    </tr>\n",
       "    <tr>\n",
       "      <th>1</th>\n",
       "      <td>472-5350</td>\n",
       "      <td>null</td>\n",
       "      <td>null</td>\n",
       "    </tr>\n",
       "    <tr>\n",
       "      <th>2</th>\n",
       "      <td>527-6106</td>\n",
       "      <td>null</td>\n",
       "      <td>null</td>\n",
       "    </tr>\n",
       "    <tr>\n",
       "      <th>3</th>\n",
       "      <td>537-7921</td>\n",
       "      <td>null</td>\n",
       "      <td>null</td>\n",
       "    </tr>\n",
       "    <tr>\n",
       "      <th>4</th>\n",
       "      <td>665-1608</td>\n",
       "      <td>null</td>\n",
       "      <td>null</td>\n",
       "    </tr>\n",
       "  </tbody>\n",
       "</table>\n",
       "</div>"
      ],
      "text/plain": [
       "       asin brand model\n",
       "0  129-8922  null  null\n",
       "1  472-5350  null  null\n",
       "2  527-6106  null  null\n",
       "3  537-7921  null  null\n",
       "4  665-1608  null  null"
      ]
     },
     "execution_count": 242,
     "metadata": {},
     "output_type": "execute_result"
    }
   ],
   "source": [
    "youngmi_lab_products = youngmi_lab[['asin']].drop_duplicates()\n",
    "youngmi_lab_products['brand'] = 'null'\n",
    "youngmi_lab_products['model'] = 'null'\n",
    "youngmi_lab_products.columns = ['asin','brand','model']\n",
    "\n",
    "youngmi_lab_products.head(3)"
   ]
  },
  {
   "cell_type": "code",
   "execution_count": 243,
   "metadata": {
    "collapsed": true
   },
   "outputs": [],
   "source": [
    "youngmi_lab_filename = 'data/youngmi_lab.json'\n",
    "write_to_json(youngmi_lab_products, youngmi_lab, youngmi_lab_filename)"
   ]
  },
  {
   "cell_type": "markdown",
   "metadata": {},
   "source": [
    "Extract some an item with a few reviews to present"
   ]
  },
  {
   "cell_type": "code",
   "execution_count": 52,
   "metadata": {
    "collapsed": false
   },
   "outputs": [
    {
     "data": {
      "text/html": [
       "<div>\n",
       "<table border=\"1\" class=\"dataframe\">\n",
       "  <thead>\n",
       "    <tr style=\"text-align: right;\">\n",
       "      <th></th>\n",
       "      <th>count</th>\n",
       "      <th>mean</th>\n",
       "    </tr>\n",
       "    <tr>\n",
       "      <th>asin</th>\n",
       "      <th></th>\n",
       "      <th></th>\n",
       "    </tr>\n",
       "  </thead>\n",
       "  <tbody>\n",
       "    <tr>\n",
       "      <th>B000S5Q9CA</th>\n",
       "      <td>5</td>\n",
       "      <td>9.100000</td>\n",
       "    </tr>\n",
       "    <tr>\n",
       "      <th>B000MMWT9Q</th>\n",
       "      <td>2</td>\n",
       "      <td>30.416667</td>\n",
       "    </tr>\n",
       "    <tr>\n",
       "      <th>B000089GN2</th>\n",
       "      <td>2</td>\n",
       "      <td>9.083333</td>\n",
       "    </tr>\n",
       "    <tr>\n",
       "      <th>B001F7AJKI</th>\n",
       "      <td>2</td>\n",
       "      <td>7.583333</td>\n",
       "    </tr>\n",
       "    <tr>\n",
       "      <th>B00009KH63</th>\n",
       "      <td>2</td>\n",
       "      <td>36.500000</td>\n",
       "    </tr>\n",
       "  </tbody>\n",
       "</table>\n",
       "</div>"
      ],
      "text/plain": [
       "            count       mean\n",
       "asin                        \n",
       "B000S5Q9CA      5   9.100000\n",
       "B000MMWT9Q      2  30.416667\n",
       "B000089GN2      2   9.083333\n",
       "B001F7AJKI      2   7.583333\n",
       "B00009KH63      2  36.500000"
      ]
     },
     "execution_count": 52,
     "metadata": {},
     "output_type": "execute_result"
    }
   ],
   "source": [
    "aggregated = breakdowns[['asin','lifespan']].groupby(['asin']).agg(['count','mean'])\n",
    "aggregated.columns = ['count','mean']\n",
    "aggregated = aggregated.sort_values(['count'], ascending = False)\n",
    "aggregated.head()"
   ]
  },
  {
   "cell_type": "code",
   "execution_count": 53,
   "metadata": {
    "collapsed": false
   },
   "outputs": [
    {
     "data": {
      "text/html": [
       "<div>\n",
       "<table border=\"1\" class=\"dataframe\">\n",
       "  <thead>\n",
       "    <tr style=\"text-align: right;\">\n",
       "      <th></th>\n",
       "      <th>asin</th>\n",
       "      <th>n_period</th>\n",
       "      <th>rating</th>\n",
       "      <th>reviewerID</th>\n",
       "      <th>t_period</th>\n",
       "      <th>words</th>\n",
       "      <th>lifespan</th>\n",
       "    </tr>\n",
       "  </thead>\n",
       "  <tbody>\n",
       "    <tr>\n",
       "      <th>110</th>\n",
       "      <td>B000S5Q9CA</td>\n",
       "      <td>1.0</td>\n",
       "      <td>5.0</td>\n",
       "      <td>A97M5R3SWXB6C</td>\n",
       "      <td>year</td>\n",
       "      <td>worked for almost a year now. What more do you</td>\n",
       "      <td>12.166667</td>\n",
       "    </tr>\n",
       "    <tr>\n",
       "      <th>111</th>\n",
       "      <td>B000S5Q9CA</td>\n",
       "      <td>1.0</td>\n",
       "      <td>2.0</td>\n",
       "      <td>A3V37YH9NLG6PD</td>\n",
       "      <td>month</td>\n",
       "      <td>worked for a month then it would charge my phone</td>\n",
       "      <td>1.000000</td>\n",
       "    </tr>\n",
       "    <tr>\n",
       "      <th>112</th>\n",
       "      <td>B000S5Q9CA</td>\n",
       "      <td>8.0</td>\n",
       "      <td>5.0</td>\n",
       "      <td>A2Y8I1M87H9XOR</td>\n",
       "      <td>month</td>\n",
       "      <td>worked for about 8 months but then started to ...</td>\n",
       "      <td>8.000000</td>\n",
       "    </tr>\n",
       "    <tr>\n",
       "      <th>113</th>\n",
       "      <td>B000S5Q9CA</td>\n",
       "      <td>1.0</td>\n",
       "      <td>5.0</td>\n",
       "      <td>A2VMV6WU9K6HCU</td>\n",
       "      <td>year</td>\n",
       "      <td>worked for about a year of heavy use before it</td>\n",
       "      <td>12.166667</td>\n",
       "    </tr>\n",
       "    <tr>\n",
       "      <th>114</th>\n",
       "      <td>B000S5Q9CA</td>\n",
       "      <td>1.0</td>\n",
       "      <td>3.0</td>\n",
       "      <td>A30KZWMO16ONEY</td>\n",
       "      <td>year</td>\n",
       "      <td>worked for a while... about a year and then it</td>\n",
       "      <td>12.166667</td>\n",
       "    </tr>\n",
       "  </tbody>\n",
       "</table>\n",
       "</div>"
      ],
      "text/plain": [
       "           asin  n_period  rating      reviewerID t_period  \\\n",
       "110  B000S5Q9CA       1.0     5.0   A97M5R3SWXB6C     year   \n",
       "111  B000S5Q9CA       1.0     2.0  A3V37YH9NLG6PD    month   \n",
       "112  B000S5Q9CA       8.0     5.0  A2Y8I1M87H9XOR    month   \n",
       "113  B000S5Q9CA       1.0     5.0  A2VMV6WU9K6HCU     year   \n",
       "114  B000S5Q9CA       1.0     3.0  A30KZWMO16ONEY     year   \n",
       "\n",
       "                                                 words   lifespan  \n",
       "110     worked for almost a year now. What more do you  12.166667  \n",
       "111   worked for a month then it would charge my phone   1.000000  \n",
       "112  worked for about 8 months but then started to ...   8.000000  \n",
       "113     worked for about a year of heavy use before it  12.166667  \n",
       "114     worked for a while... about a year and then it  12.166667  "
      ]
     },
     "execution_count": 53,
     "metadata": {},
     "output_type": "execute_result"
    }
   ],
   "source": [
    "chosen_id = aggregated.index[0]\n",
    "chosen_reviews = breakdowns.where(breakdowns.asin == chosen_id).dropna()\n",
    "chosen_reviews"
   ]
  },
  {
   "cell_type": "code",
   "execution_count": null,
   "metadata": {
    "collapsed": true
   },
   "outputs": [],
   "source": []
  }
 ],
 "metadata": {
  "kernelspec": {
   "display_name": "Python [Root]",
   "language": "python",
   "name": "Python [Root]"
  },
  "language_info": {
   "codemirror_mode": {
    "name": "ipython",
    "version": 3
   },
   "file_extension": ".py",
   "mimetype": "text/x-python",
   "name": "python",
   "nbconvert_exporter": "python",
   "pygments_lexer": "ipython3",
   "version": "3.5.2"
  }
 },
 "nbformat": 4,
 "nbformat_minor": 0
}
