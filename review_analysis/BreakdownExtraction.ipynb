{
 "cells": [
  {
   "cell_type": "markdown",
   "metadata": {},
   "source": [
    "# Extract lifespan information from Amazon reviews"
   ]
  },
  {
   "cell_type": "code",
   "execution_count": 125,
   "metadata": {
    "collapsed": true
   },
   "outputs": [],
   "source": [
    "import nltk\n",
    "import json\n",
    "import pandas as pd\n",
    "import numpy as np\n",
    "import gzip"
   ]
  },
  {
   "cell_type": "markdown",
   "metadata": {},
   "source": [
    "First let's create a very small subset to work with"
   ]
  },
  {
   "cell_type": "code",
   "execution_count": 20,
   "metadata": {
    "collapsed": false
   },
   "outputs": [],
   "source": [
    "bigfile = 'data/Electronics_5.json'\n",
    "smallfile = 'data/Electronics_5_small.json'\n",
    "n_reviews = 1000\n",
    "\n",
    "# One review per line\n",
    "with open(bigfile, 'r') as bigfile_handle, open(smallfile, 'w') as smallfile_handle:\n",
    "    for i in range(n_reviews):\n",
    "        smallfile_handle.write(bigfile_handle.readline())\n"
   ]
  },
  {
   "cell_type": "markdown",
   "metadata": {},
   "source": [
    "Read data using their script"
   ]
  },
  {
   "cell_type": "code",
   "execution_count": 147,
   "metadata": {
    "collapsed": false
   },
   "outputs": [
    {
     "data": {
      "text/html": [
       "<div>\n",
       "<table border=\"1\" class=\"dataframe\">\n",
       "  <thead>\n",
       "    <tr style=\"text-align: right;\">\n",
       "      <th></th>\n",
       "      <th>asin</th>\n",
       "      <th>reviewText</th>\n",
       "      <th>reviewTime</th>\n",
       "      <th>overall</th>\n",
       "      <th>unixReviewTime</th>\n",
       "      <th>helpful</th>\n",
       "      <th>reviewerID</th>\n",
       "      <th>summary</th>\n",
       "      <th>reviewerName</th>\n",
       "    </tr>\n",
       "  </thead>\n",
       "  <tbody>\n",
       "    <tr>\n",
       "      <th>0</th>\n",
       "      <td>0528881469</td>\n",
       "      <td>We got this GPS for my husband who is an (OTR)...</td>\n",
       "      <td>06 2, 2013</td>\n",
       "      <td>5.0</td>\n",
       "      <td>1370131200</td>\n",
       "      <td>[0, 0]</td>\n",
       "      <td>AO94DHGC771SJ</td>\n",
       "      <td>Gotta have GPS!</td>\n",
       "      <td>amazdnu</td>\n",
       "    </tr>\n",
       "    <tr>\n",
       "      <th>1</th>\n",
       "      <td>0528881469</td>\n",
       "      <td>I'm a professional OTR truck driver, and I bou...</td>\n",
       "      <td>11 25, 2010</td>\n",
       "      <td>1.0</td>\n",
       "      <td>1290643200</td>\n",
       "      <td>[12, 15]</td>\n",
       "      <td>AMO214LNFCEI4</td>\n",
       "      <td>Very Disappointed</td>\n",
       "      <td>Amazon Customer</td>\n",
       "    </tr>\n",
       "  </tbody>\n",
       "</table>\n",
       "</div>"
      ],
      "text/plain": [
       "         asin                                         reviewText   reviewTime  \\\n",
       "0  0528881469  We got this GPS for my husband who is an (OTR)...   06 2, 2013   \n",
       "1  0528881469  I'm a professional OTR truck driver, and I bou...  11 25, 2010   \n",
       "\n",
       "   overall  unixReviewTime   helpful     reviewerID            summary  \\\n",
       "0      5.0      1370131200    [0, 0]  AO94DHGC771SJ    Gotta have GPS!   \n",
       "1      1.0      1290643200  [12, 15]  AMO214LNFCEI4  Very Disappointed   \n",
       "\n",
       "      reviewerName  \n",
       "0          amazdnu  \n",
       "1  Amazon Customer  "
      ]
     },
     "execution_count": 147,
     "metadata": {},
     "output_type": "execute_result"
    }
   ],
   "source": [
    "def parse(path):\n",
    "    g = gzip.open(path, 'rb')\n",
    "    for l in g:\n",
    "        yield eval(l)\n",
    "\n",
    "def getDF(path):\n",
    "    i = 0\n",
    "    i_max = 100000\n",
    "    df = {}\n",
    "    for d in parse(path):\n",
    "        df[i] = d\n",
    "        i += 1\n",
    "        if i > i_max:\n",
    "            break\n",
    "            \n",
    "    return pd.DataFrame.from_dict(df, orient='index')\n",
    "\n",
    "reviews = getDF('data/reviews_Electronics_5.json.gz')\n",
    "reviews.head(2)"
   ]
  },
  {
   "cell_type": "markdown",
   "metadata": {},
   "source": [
    "Filter rows containing breaking-related words"
   ]
  },
  {
   "cell_type": "code",
   "execution_count": 161,
   "metadata": {
    "collapsed": false
   },
   "outputs": [
    {
     "name": "stdout",
     "output_type": "stream",
     "text": [
      "         asin  n_period  rating      reviewerID t_period   lifespan\n",
      "0  9888002198       1.0     1.0   ATXRV6Z3N08ZX      day   0.033333\n",
      "1  9888002198       6.0     5.0   AA6BJGZG6XI05     week   1.400000\n",
      "2  B00000J0D5       2.0     1.0   A83BIO3AO15LQ    month   2.000000\n",
      "3  B00003006E       1.0     5.0  A2WYNTUJ91DLZW     year  12.166667\n",
      "4  B00004Z5LR       8.0     5.0  A2BFZD9WRHVO0J    month   8.000000\n"
     ]
    }
   ],
   "source": [
    "term = 'worked for'\n",
    "timeperiod_terms = set(['day','week','month','year'])\n",
    "break_reviews = reviews[reviews['reviewText'].str.contains(term)]\n",
    "\n",
    "asins = []\n",
    "reviewerIDs = []\n",
    "n_periods = []\n",
    "t_periods = []\n",
    "ratings = []\n",
    "\n",
    "for index, row in break_reviews.head(1000).iterrows():\n",
    "    review = row['reviewText']\n",
    "    asin = row['asin']\n",
    "    reviewerID = row['reviewerID']\n",
    "    rating = row['overall']\n",
    "    \n",
    "    i_term = review.find(term)\n",
    "    words_after = review[i_term+1:].split()[2:10]\n",
    "    \n",
    "    for timeperiod in timeperiod_terms:\n",
    "        if (timeperiod in words_after) or (timeperiod+'s' in words_after):\n",
    "            i_term = np.argmax(pd.Series(words_after).str.contains(timeperiod))\n",
    "            words_between = words_after[0:i_term]\n",
    "            if len(words_between) > 0:\n",
    "                try:\n",
    "                    n_periods_float = float(words_between[-1])\n",
    "                    asins.append(asin)\n",
    "                    reviewerIDs.append(reviewerID)\n",
    "                    n_periods.append(n_periods_float)\n",
    "                    t_periods.append(timeperiod)\n",
    "                    ratings.append(rating)\n",
    "                except ValueError:\n",
    "                    if words_between[-1] == 'a':\n",
    "                        n_periods_float = float(1)\n",
    "                        asins.append(asin)\n",
    "                        reviewerIDs.append(reviewerID)\n",
    "                        n_periods.append(n_periods_float)\n",
    "                        t_periods.append(timeperiod)\n",
    "                        ratings.append(rating)\n",
    "            \n",
    "breakdowns = pd.DataFrame({'asin': asins, 'reviewerID': reviewerIDs,\n",
    "                          'n_period': n_periods, 't_period': t_periods,\n",
    "                          'rating': ratings})\n",
    "\n",
    "lifespans = []\n",
    "for i in range(breakdowns.shape[0]):\n",
    "    if (breakdowns['t_period'][i] == 'day'):\n",
    "        lifespans.append(breakdowns['n_period'][i] / 30)\n",
    "    elif (breakdowns['t_period'][i] == 'week'):\n",
    "        lifespans.append(breakdowns['n_period'][i] * 7 / 30)\n",
    "    elif (breakdowns['t_period'][i] == 'month'):\n",
    "        lifespans.append(breakdowns['n_period'][i])\n",
    "    elif (breakdowns['t_period'][i] == 'year'):\n",
    "        lifespans.append(breakdowns['n_period'][i] *365 / 30)\n",
    "    else:\n",
    "        print('ajjajaj')\n",
    "\n",
    "breakdowns['lifespan'] = lifespans\n",
    "print(breakdowns.head())"
   ]
  },
  {
   "cell_type": "markdown",
   "metadata": {},
   "source": [
    "Create item table"
   ]
  },
  {
   "cell_type": "code",
   "execution_count": 235,
   "metadata": {
    "collapsed": false
   },
   "outputs": [
    {
     "name": "stdout",
     "output_type": "stream",
     "text": [
      "         asin brand model\n",
      "0  9888002198  null  null\n",
      "1  B00000J0D5  null  null\n",
      "2  B00003006E  null  null\n",
      "3  B00004Z5LR  null  null\n",
      "4  B00005854F  null  null\n"
     ]
    }
   ],
   "source": [
    "uniq_asins = breakdowns['asin'].unique()\n",
    "breakdown_items = pd.DataFrame({'asin': uniq_asins})\n",
    "breakdown_items['brand'] = 'null'\n",
    "breakdown_items['model'] = 'null'\n",
    "print(breakdown_items.head())"
   ]
  },
  {
   "cell_type": "markdown",
   "metadata": {},
   "source": [
    "Convert pandas dataframe to json"
   ]
  },
  {
   "cell_type": "code",
   "execution_count": 239,
   "metadata": {
    "collapsed": false
   },
   "outputs": [],
   "source": [
    "def write_to_json(items, reviews, filename):\n",
    "    with open(filename, 'w') as jsonfile:\n",
    "        jsonfile.write('{\\n')\n",
    "        \n",
    "        for index, row in items.iterrows():\n",
    "            thisitem_reviews = reviews.where(reviews.asin == row.asin).dropna().reset_index(drop=True)\n",
    "            \n",
    "            jsonfile.write('\\t\"' + row['asin'] + '\" : {\\n')\n",
    "            jsonfile.write('\\t\\t\"brand\" : ' + row['brand'] + ',\\n')\n",
    "            jsonfile.write('\\t\\t\"model\" : ' + row['model'] + ',\\n')\n",
    "            jsonfile.write('\\t\\t\"reviews\" : [ \\n')\n",
    "            \n",
    "            for iindex, irow in thisitem_reviews.iterrows():\n",
    "                if iindex == (thisitem_reviews.shape[0] - 1):\n",
    "                    jsonfile.write('\\t\\t{\\t\"lifespan\": ' + str(irow['lifespan']) + ',\\n')\n",
    "                    jsonfile.write('\\t\\t\\t\"rating\": ' + str(irow['rating']) + '\\n')\n",
    "                    jsonfile.write('\\t\\t}\\n')\n",
    "                else:\n",
    "                    jsonfile.write('\\t\\t{\\t\"lifespan\": ' + str(irow['lifespan']) + ',\\n')\n",
    "                    jsonfile.write('\\t\\t\\t\"rating\": ' + str(irow['rating']) + '\\n')\n",
    "                    jsonfile.write('\\t\\t},\\n')\n",
    "                \n",
    "            jsonfile.write('\\t\\t]\\n')\n",
    "            jsonfile.write('\\t},\\n')\n",
    "        jsonfile.write('}\\n')\n",
    "\n",
    "filename = 'data/amazon.json'\n",
    "write_to_json(breakdown_items, breakdowns, filename)"
   ]
  },
  {
   "cell_type": "markdown",
   "metadata": {},
   "source": [
    "Convert Young Mi's Amazon file"
   ]
  },
  {
   "cell_type": "code",
   "execution_count": 225,
   "metadata": {
    "collapsed": false
   },
   "outputs": [
    {
     "data": {
      "text/html": [
       "<div>\n",
       "<table border=\"1\" class=\"dataframe\">\n",
       "  <thead>\n",
       "    <tr style=\"text-align: right;\">\n",
       "      <th></th>\n",
       "      <th>asin</th>\n",
       "      <th>rating</th>\n",
       "      <th>lifespan</th>\n",
       "      <th>brand</th>\n",
       "    </tr>\n",
       "  </thead>\n",
       "  <tbody>\n",
       "    <tr>\n",
       "      <th>0</th>\n",
       "      <td>0132793040</td>\n",
       "      <td>5</td>\n",
       "      <td>6</td>\n",
       "      <td>FRUYZ9646H</td>\n",
       "    </tr>\n",
       "    <tr>\n",
       "      <th>1</th>\n",
       "      <td>0321732944</td>\n",
       "      <td>5</td>\n",
       "      <td>28</td>\n",
       "      <td>XXSKO4415Q</td>\n",
       "    </tr>\n",
       "    <tr>\n",
       "      <th>2</th>\n",
       "      <td>0439886341</td>\n",
       "      <td>1</td>\n",
       "      <td>20</td>\n",
       "      <td>VKNEQ7868Y</td>\n",
       "    </tr>\n",
       "    <tr>\n",
       "      <th>3</th>\n",
       "      <td>0439886341</td>\n",
       "      <td>3</td>\n",
       "      <td>1</td>\n",
       "      <td>XIWNE4324C</td>\n",
       "    </tr>\n",
       "    <tr>\n",
       "      <th>4</th>\n",
       "      <td>0439886341</td>\n",
       "      <td>1</td>\n",
       "      <td>19</td>\n",
       "      <td>VXVKC6828Z</td>\n",
       "    </tr>\n",
       "  </tbody>\n",
       "</table>\n",
       "</div>"
      ],
      "text/plain": [
       "         asin  rating  lifespan       brand\n",
       "0  0132793040       5         6  FRUYZ9646H\n",
       "1  0321732944       5        28  XXSKO4415Q\n",
       "2  0439886341       1        20  VKNEQ7868Y\n",
       "3  0439886341       3         1  XIWNE4324C\n",
       "4  0439886341       1        19  VXVKC6828Z"
      ]
     },
     "execution_count": 225,
     "metadata": {},
     "output_type": "execute_result"
    }
   ],
   "source": [
    "original_columns = ['ASIN','Rating','Months','Brand_name']\n",
    "new_columns = ['asin','rating','lifespan','brand']\n",
    "\n",
    "youngmi_amazon = pd.read_csv('data/ratings_Amazon.csv')[original_columns]\n",
    "youngmi_amazon.columns = new_columns\n",
    "youngmi_amazon.head()"
   ]
  },
  {
   "cell_type": "code",
   "execution_count": 245,
   "metadata": {
    "collapsed": false
   },
   "outputs": [
    {
     "data": {
      "text/html": [
       "<div>\n",
       "<table border=\"1\" class=\"dataframe\">\n",
       "  <thead>\n",
       "    <tr style=\"text-align: right;\">\n",
       "      <th></th>\n",
       "      <th>asin</th>\n",
       "      <th>brand</th>\n",
       "      <th>model</th>\n",
       "    </tr>\n",
       "  </thead>\n",
       "  <tbody>\n",
       "    <tr>\n",
       "      <th>0</th>\n",
       "      <td>0132793040</td>\n",
       "      <td>FRUYZ9646H</td>\n",
       "      <td>null</td>\n",
       "    </tr>\n",
       "    <tr>\n",
       "      <th>1</th>\n",
       "      <td>0321732944</td>\n",
       "      <td>XXSKO4415Q</td>\n",
       "      <td>null</td>\n",
       "    </tr>\n",
       "    <tr>\n",
       "      <th>2</th>\n",
       "      <td>0439886341</td>\n",
       "      <td>VKNEQ7868Y</td>\n",
       "      <td>null</td>\n",
       "    </tr>\n",
       "    <tr>\n",
       "      <th>3</th>\n",
       "      <td>0439886341</td>\n",
       "      <td>XIWNE4324C</td>\n",
       "      <td>null</td>\n",
       "    </tr>\n",
       "    <tr>\n",
       "      <th>4</th>\n",
       "      <td>0439886341</td>\n",
       "      <td>VXVKC6828Z</td>\n",
       "      <td>null</td>\n",
       "    </tr>\n",
       "  </tbody>\n",
       "</table>\n",
       "</div>"
      ],
      "text/plain": [
       "         asin       brand model\n",
       "0  0132793040  FRUYZ9646H  null\n",
       "1  0321732944  XXSKO4415Q  null\n",
       "2  0439886341  VKNEQ7868Y  null\n",
       "3  0439886341  XIWNE4324C  null\n",
       "4  0439886341  VXVKC6828Z  null"
      ]
     },
     "execution_count": 245,
     "metadata": {},
     "output_type": "execute_result"
    }
   ],
   "source": [
    "youngmi_amazon_products = youngmi_amazon[['asin','brand']].drop_duplicates()\n",
    "youngmi_amazon_products['model'] = 'null'\n",
    "youngmi_amazon_products.columns = ['asin','brand','model']\n",
    "\n",
    "youngmi_amazon_products.head()"
   ]
  },
  {
   "cell_type": "code",
   "execution_count": 244,
   "metadata": {
    "collapsed": true
   },
   "outputs": [],
   "source": [
    "def write_to_json_ym(items, reviews, filename):\n",
    "    with open(filename, 'w') as jsonfile:\n",
    "        jsonfile.write('{\\n')\n",
    "        \n",
    "        for index, row in items.iterrows():\n",
    "            thisitem_reviews = reviews.where(reviews.asin == row.asin).dropna().reset_index(drop=True)\n",
    "            \n",
    "            jsonfile.write('\\t\"' + row['asin'] + '\" : {\\n')\n",
    "            jsonfile.write('\\t\\t\"brand\" : \"' + row['brand'] + '\",\\n')\n",
    "            jsonfile.write('\\t\\t\"model\" : ' + row['model'] + ',\\n')\n",
    "            jsonfile.write('\\t\\t\"reviews\" : [ \\n')\n",
    "            \n",
    "            for iindex, irow in thisitem_reviews.iterrows():\n",
    "                if iindex == (thisitem_reviews.shape[0] - 1):\n",
    "                    jsonfile.write('\\t\\t{\\t\"lifespan\": ' + str(irow['lifespan']) + ',\\n')\n",
    "                    jsonfile.write('\\t\\t\\t\"rating\": ' + str(irow['rating']) + '\\n')\n",
    "                    jsonfile.write('\\t\\t}\\n')\n",
    "                else:\n",
    "                    jsonfile.write('\\t\\t{\\t\"lifespan\": ' + str(irow['lifespan']) + ',\\n')\n",
    "                    jsonfile.write('\\t\\t\\t\"rating\": ' + str(irow['rating']) + '\\n')\n",
    "                    jsonfile.write('\\t\\t},\\n')\n",
    "                \n",
    "            jsonfile.write('\\t\\t]\\n')\n",
    "            jsonfile.write('\\t},\\n')\n",
    "        jsonfile.write('}\\n')\n",
    "\n",
    "youngmiamazon_filename = 'data/youngmi_amazon.json'\n",
    "write_to_json_ym(youngmi_amazon_products, youngmi_amazon, youngmiamazon_filename)"
   ]
  },
  {
   "cell_type": "markdown",
   "metadata": {},
   "source": [
    "And convert Young Mi's lab data too"
   ]
  },
  {
   "cell_type": "code",
   "execution_count": 241,
   "metadata": {
    "collapsed": false
   },
   "outputs": [
    {
     "data": {
      "text/html": [
       "<div>\n",
       "<table border=\"1\" class=\"dataframe\">\n",
       "  <thead>\n",
       "    <tr style=\"text-align: right;\">\n",
       "      <th></th>\n",
       "      <th>asin</th>\n",
       "      <th>lifespan</th>\n",
       "      <th>rating</th>\n",
       "    </tr>\n",
       "  </thead>\n",
       "  <tbody>\n",
       "    <tr>\n",
       "      <th>0</th>\n",
       "      <td>129-8922</td>\n",
       "      <td>75</td>\n",
       "      <td>1</td>\n",
       "    </tr>\n",
       "    <tr>\n",
       "      <th>1</th>\n",
       "      <td>472-5350</td>\n",
       "      <td>29</td>\n",
       "      <td>2</td>\n",
       "    </tr>\n",
       "    <tr>\n",
       "      <th>2</th>\n",
       "      <td>527-6106</td>\n",
       "      <td>24</td>\n",
       "      <td>5</td>\n",
       "    </tr>\n",
       "    <tr>\n",
       "      <th>3</th>\n",
       "      <td>537-7921</td>\n",
       "      <td>14</td>\n",
       "      <td>4</td>\n",
       "    </tr>\n",
       "    <tr>\n",
       "      <th>4</th>\n",
       "      <td>665-1608</td>\n",
       "      <td>40</td>\n",
       "      <td>5</td>\n",
       "    </tr>\n",
       "  </tbody>\n",
       "</table>\n",
       "</div>"
      ],
      "text/plain": [
       "       asin  lifespan  rating\n",
       "0  129-8922        75       1\n",
       "1  472-5350        29       2\n",
       "2  527-6106        24       5\n",
       "3  537-7921        14       4\n",
       "4  665-1608        40       5"
      ]
     },
     "execution_count": 241,
     "metadata": {},
     "output_type": "execute_result"
    }
   ],
   "source": [
    "original_columns = ['vwr.catalogue','months','ratings']\n",
    "new_columns = ['asin','lifespan','rating']\n",
    "\n",
    "youngmi_lab = pd.read_csv('data/vwr.data.csv')\n",
    "youngmi_lab.columns = new_columns\n",
    "youngmi_lab.head()"
   ]
  },
  {
   "cell_type": "code",
   "execution_count": 242,
   "metadata": {
    "collapsed": false
   },
   "outputs": [
    {
     "data": {
      "text/html": [
       "<div>\n",
       "<table border=\"1\" class=\"dataframe\">\n",
       "  <thead>\n",
       "    <tr style=\"text-align: right;\">\n",
       "      <th></th>\n",
       "      <th>asin</th>\n",
       "      <th>brand</th>\n",
       "      <th>model</th>\n",
       "    </tr>\n",
       "  </thead>\n",
       "  <tbody>\n",
       "    <tr>\n",
       "      <th>0</th>\n",
       "      <td>129-8922</td>\n",
       "      <td>null</td>\n",
       "      <td>null</td>\n",
       "    </tr>\n",
       "    <tr>\n",
       "      <th>1</th>\n",
       "      <td>472-5350</td>\n",
       "      <td>null</td>\n",
       "      <td>null</td>\n",
       "    </tr>\n",
       "    <tr>\n",
       "      <th>2</th>\n",
       "      <td>527-6106</td>\n",
       "      <td>null</td>\n",
       "      <td>null</td>\n",
       "    </tr>\n",
       "    <tr>\n",
       "      <th>3</th>\n",
       "      <td>537-7921</td>\n",
       "      <td>null</td>\n",
       "      <td>null</td>\n",
       "    </tr>\n",
       "    <tr>\n",
       "      <th>4</th>\n",
       "      <td>665-1608</td>\n",
       "      <td>null</td>\n",
       "      <td>null</td>\n",
       "    </tr>\n",
       "  </tbody>\n",
       "</table>\n",
       "</div>"
      ],
      "text/plain": [
       "       asin brand model\n",
       "0  129-8922  null  null\n",
       "1  472-5350  null  null\n",
       "2  527-6106  null  null\n",
       "3  537-7921  null  null\n",
       "4  665-1608  null  null"
      ]
     },
     "execution_count": 242,
     "metadata": {},
     "output_type": "execute_result"
    }
   ],
   "source": [
    "youngmi_lab_products = youngmi_lab[['asin']].drop_duplicates()\n",
    "youngmi_lab_products['brand'] = 'null'\n",
    "youngmi_lab_products['model'] = 'null'\n",
    "youngmi_lab_products.columns = ['asin','brand','model']\n",
    "\n",
    "youngmi_lab_products.head()"
   ]
  },
  {
   "cell_type": "code",
   "execution_count": 243,
   "metadata": {
    "collapsed": true
   },
   "outputs": [],
   "source": [
    "youngmi_lab_filename = 'data/youngmi_lab.json'\n",
    "write_to_json(youngmi_lab_products, youngmi_lab, youngmi_lab_filename)"
   ]
  },
  {
   "cell_type": "code",
   "execution_count": null,
   "metadata": {
    "collapsed": true
   },
   "outputs": [],
   "source": []
  }
 ],
 "metadata": {
  "kernelspec": {
   "display_name": "Python [Root]",
   "language": "python",
   "name": "Python [Root]"
  },
  "language_info": {
   "codemirror_mode": {
    "name": "ipython",
    "version": 3
   },
   "file_extension": ".py",
   "mimetype": "text/x-python",
   "name": "python",
   "nbconvert_exporter": "python",
   "pygments_lexer": "ipython3",
   "version": "3.5.2"
  }
 },
 "nbformat": 4,
 "nbformat_minor": 0
}
